{
 "cells": [
  {
   "cell_type": "code",
   "execution_count": 1,
   "id": "15300d67",
   "metadata": {},
   "outputs": [],
   "source": [
    "import pandas as pd\n",
    "import numpy as np\n",
    "import matplotlib.pyplot as plt\n",
    "%matplotlib inline"
   ]
  },
  {
   "cell_type": "markdown",
   "id": "347cd7c9",
   "metadata": {},
   "source": [
    "### Analyze and visualize sentiment patterns in social media data to understand public opinion and attitudes towards specific topics or brands."
   ]
  },
  {
   "cell_type": "code",
   "execution_count": 2,
   "id": "74eb1b41",
   "metadata": {},
   "outputs": [
    {
     "data": {
      "text/html": [
       "<div>\n",
       "<style scoped>\n",
       "    .dataframe tbody tr th:only-of-type {\n",
       "        vertical-align: middle;\n",
       "    }\n",
       "\n",
       "    .dataframe tbody tr th {\n",
       "        vertical-align: top;\n",
       "    }\n",
       "\n",
       "    .dataframe thead th {\n",
       "        text-align: right;\n",
       "    }\n",
       "</style>\n",
       "<table border=\"1\" class=\"dataframe\">\n",
       "  <thead>\n",
       "    <tr style=\"text-align: right;\">\n",
       "      <th></th>\n",
       "      <th>Tweet_Id</th>\n",
       "      <th>Company</th>\n",
       "      <th>Sentiments</th>\n",
       "      <th>Tweets</th>\n",
       "    </tr>\n",
       "  </thead>\n",
       "  <tbody>\n",
       "    <tr>\n",
       "      <th>0</th>\n",
       "      <td>2401</td>\n",
       "      <td>Borderlands</td>\n",
       "      <td>Positive</td>\n",
       "      <td>im getting on borderlands and i will murder yo...</td>\n",
       "    </tr>\n",
       "    <tr>\n",
       "      <th>1</th>\n",
       "      <td>2401</td>\n",
       "      <td>Borderlands</td>\n",
       "      <td>Positive</td>\n",
       "      <td>I am coming to the borders and I will kill you...</td>\n",
       "    </tr>\n",
       "    <tr>\n",
       "      <th>2</th>\n",
       "      <td>2401</td>\n",
       "      <td>Borderlands</td>\n",
       "      <td>Positive</td>\n",
       "      <td>im getting on borderlands and i will kill you ...</td>\n",
       "    </tr>\n",
       "    <tr>\n",
       "      <th>3</th>\n",
       "      <td>2401</td>\n",
       "      <td>Borderlands</td>\n",
       "      <td>Positive</td>\n",
       "      <td>im coming on borderlands and i will murder you...</td>\n",
       "    </tr>\n",
       "    <tr>\n",
       "      <th>4</th>\n",
       "      <td>2401</td>\n",
       "      <td>Borderlands</td>\n",
       "      <td>Positive</td>\n",
       "      <td>im getting on borderlands 2 and i will murder ...</td>\n",
       "    </tr>\n",
       "  </tbody>\n",
       "</table>\n",
       "</div>"
      ],
      "text/plain": [
       "   Tweet_Id      Company Sentiments  \\\n",
       "0      2401  Borderlands   Positive   \n",
       "1      2401  Borderlands   Positive   \n",
       "2      2401  Borderlands   Positive   \n",
       "3      2401  Borderlands   Positive   \n",
       "4      2401  Borderlands   Positive   \n",
       "\n",
       "                                              Tweets  \n",
       "0  im getting on borderlands and i will murder yo...  \n",
       "1  I am coming to the borders and I will kill you...  \n",
       "2  im getting on borderlands and i will kill you ...  \n",
       "3  im coming on borderlands and i will murder you...  \n",
       "4  im getting on borderlands 2 and i will murder ...  "
      ]
     },
     "execution_count": 2,
     "metadata": {},
     "output_type": "execute_result"
    }
   ],
   "source": [
    "df_train = pd.read_csv(\"twitter_training.csv\",names=['Tweet_Id','Company','Sentiments','Tweets'])\n",
    "df_train.head()"
   ]
  },
  {
   "cell_type": "code",
   "execution_count": 3,
   "id": "cd85ebc0",
   "metadata": {},
   "outputs": [
    {
     "data": {
      "text/html": [
       "<div>\n",
       "<style scoped>\n",
       "    .dataframe tbody tr th:only-of-type {\n",
       "        vertical-align: middle;\n",
       "    }\n",
       "\n",
       "    .dataframe tbody tr th {\n",
       "        vertical-align: top;\n",
       "    }\n",
       "\n",
       "    .dataframe thead th {\n",
       "        text-align: right;\n",
       "    }\n",
       "</style>\n",
       "<table border=\"1\" class=\"dataframe\">\n",
       "  <thead>\n",
       "    <tr style=\"text-align: right;\">\n",
       "      <th></th>\n",
       "      <th>Tweet_Id</th>\n",
       "      <th>Company</th>\n",
       "      <th>Sentiments</th>\n",
       "      <th>Tweets</th>\n",
       "    </tr>\n",
       "  </thead>\n",
       "  <tbody>\n",
       "    <tr>\n",
       "      <th>0</th>\n",
       "      <td>3364</td>\n",
       "      <td>Facebook</td>\n",
       "      <td>Irrelevant</td>\n",
       "      <td>I mentioned on Facebook that I was struggling ...</td>\n",
       "    </tr>\n",
       "    <tr>\n",
       "      <th>1</th>\n",
       "      <td>352</td>\n",
       "      <td>Amazon</td>\n",
       "      <td>Neutral</td>\n",
       "      <td>BBC News - Amazon boss Jeff Bezos rejects clai...</td>\n",
       "    </tr>\n",
       "    <tr>\n",
       "      <th>2</th>\n",
       "      <td>8312</td>\n",
       "      <td>Microsoft</td>\n",
       "      <td>Negative</td>\n",
       "      <td>@Microsoft Why do I pay for WORD when it funct...</td>\n",
       "    </tr>\n",
       "    <tr>\n",
       "      <th>3</th>\n",
       "      <td>4371</td>\n",
       "      <td>CS-GO</td>\n",
       "      <td>Negative</td>\n",
       "      <td>CSGO matchmaking is so full of closet hacking,...</td>\n",
       "    </tr>\n",
       "    <tr>\n",
       "      <th>4</th>\n",
       "      <td>4433</td>\n",
       "      <td>Google</td>\n",
       "      <td>Neutral</td>\n",
       "      <td>Now the President is slapping Americans in the...</td>\n",
       "    </tr>\n",
       "  </tbody>\n",
       "</table>\n",
       "</div>"
      ],
      "text/plain": [
       "   Tweet_Id    Company  Sentiments  \\\n",
       "0      3364   Facebook  Irrelevant   \n",
       "1       352     Amazon     Neutral   \n",
       "2      8312  Microsoft    Negative   \n",
       "3      4371      CS-GO    Negative   \n",
       "4      4433     Google     Neutral   \n",
       "\n",
       "                                              Tweets  \n",
       "0  I mentioned on Facebook that I was struggling ...  \n",
       "1  BBC News - Amazon boss Jeff Bezos rejects clai...  \n",
       "2  @Microsoft Why do I pay for WORD when it funct...  \n",
       "3  CSGO matchmaking is so full of closet hacking,...  \n",
       "4  Now the President is slapping Americans in the...  "
      ]
     },
     "execution_count": 3,
     "metadata": {},
     "output_type": "execute_result"
    }
   ],
   "source": [
    "df_val = pd.read_csv(\"twitter_validation.csv\",names=['Tweet_Id','Company','Sentiments','Tweets'])\n",
    "df_val.head()"
   ]
  },
  {
   "cell_type": "code",
   "execution_count": 4,
   "id": "8cc492ff",
   "metadata": {},
   "outputs": [
    {
     "name": "stdout",
     "output_type": "stream",
     "text": [
      "<class 'pandas.core.frame.DataFrame'>\n",
      "RangeIndex: 74682 entries, 0 to 74681\n",
      "Data columns (total 4 columns):\n",
      " #   Column      Non-Null Count  Dtype \n",
      "---  ------      --------------  ----- \n",
      " 0   Tweet_Id    74682 non-null  int64 \n",
      " 1   Company     74682 non-null  object\n",
      " 2   Sentiments  74682 non-null  object\n",
      " 3   Tweets      73996 non-null  object\n",
      "dtypes: int64(1), object(3)\n",
      "memory usage: 2.3+ MB\n"
     ]
    }
   ],
   "source": [
    "df_train.info()"
   ]
  },
  {
   "cell_type": "code",
   "execution_count": 5,
   "id": "f0147127",
   "metadata": {},
   "outputs": [
    {
     "name": "stdout",
     "output_type": "stream",
     "text": [
      "<class 'pandas.core.frame.DataFrame'>\n",
      "RangeIndex: 1000 entries, 0 to 999\n",
      "Data columns (total 4 columns):\n",
      " #   Column      Non-Null Count  Dtype \n",
      "---  ------      --------------  ----- \n",
      " 0   Tweet_Id    1000 non-null   int64 \n",
      " 1   Company     1000 non-null   object\n",
      " 2   Sentiments  1000 non-null   object\n",
      " 3   Tweets      1000 non-null   object\n",
      "dtypes: int64(1), object(3)\n",
      "memory usage: 31.4+ KB\n"
     ]
    }
   ],
   "source": [
    "df_val.info()"
   ]
  },
  {
   "cell_type": "markdown",
   "id": "d9b6ff2c",
   "metadata": {},
   "source": [
    "### Null Value check"
   ]
  },
  {
   "cell_type": "code",
   "execution_count": 6,
   "id": "f21349cc",
   "metadata": {},
   "outputs": [
    {
     "data": {
      "text/plain": [
       "Tweet_Id        0\n",
       "Company         0\n",
       "Sentiments      0\n",
       "Tweets        686\n",
       "dtype: int64"
      ]
     },
     "execution_count": 6,
     "metadata": {},
     "output_type": "execute_result"
    }
   ],
   "source": [
    "df_train.isnull().sum()"
   ]
  },
  {
   "cell_type": "code",
   "execution_count": 7,
   "id": "16caf9cd",
   "metadata": {},
   "outputs": [
    {
     "data": {
      "text/plain": [
       "Tweet_Id      0\n",
       "Company       0\n",
       "Sentiments    0\n",
       "Tweets        0\n",
       "dtype: int64"
      ]
     },
     "execution_count": 7,
     "metadata": {},
     "output_type": "execute_result"
    }
   ],
   "source": [
    "df_val.isnull().sum()"
   ]
  },
  {
   "cell_type": "markdown",
   "id": "67f7e8bd",
   "metadata": {},
   "source": [
    "### Count of categorical columns"
   ]
  },
  {
   "cell_type": "code",
   "execution_count": 8,
   "id": "96d380f1",
   "metadata": {},
   "outputs": [
    {
     "name": "stdout",
     "output_type": "stream",
     "text": [
      "Company\n",
      "TomClancysRainbowSix                 2400\n",
      "MaddenNFL                            2400\n",
      "Microsoft                            2400\n",
      "LeagueOfLegends                      2394\n",
      "CallOfDuty                           2394\n",
      "Verizon                              2382\n",
      "CallOfDutyBlackopsColdWar            2376\n",
      "ApexLegends                          2376\n",
      "Facebook                             2370\n",
      "WorldOfCraft                         2364\n",
      "Dota2                                2364\n",
      "NBA2K                                2352\n",
      "TomClancysGhostRecon                 2346\n",
      "Battlefield                          2346\n",
      "FIFA                                 2340\n",
      "Xbox(Xseries)                        2334\n",
      "Overwatch                            2334\n",
      "johnson&johnson                      2328\n",
      "Amazon                               2316\n",
      "PlayStation5(PS5)                    2310\n",
      "HomeDepot                            2310\n",
      "Cyberpunk2077                        2304\n",
      "CS-GO                                2304\n",
      "GrandTheftAuto(GTA)                  2304\n",
      "Hearthstone                          2298\n",
      "Nvidia                               2298\n",
      "Google                               2298\n",
      "Borderlands                          2286\n",
      "PlayerUnknownsBattlegrounds(PUBG)    2274\n",
      "Fortnite                             2274\n",
      "RedDeadRedemption(RDR)               2262\n",
      "AssassinsCreed                       2244\n",
      "Name: count, dtype: int64\n",
      "------------------------------\n",
      "Sentiments\n",
      "Negative      22542\n",
      "Positive      20832\n",
      "Neutral       18318\n",
      "Irrelevant    12990\n",
      "Name: count, dtype: int64\n",
      "------------------------------\n",
      "Tweets\n",
      "At the same time, despite the fact that there are currently some 100 million people living below the poverty line, most of them do not have access to health services and do not have access to health care, while most of them do not have access to health care.    172\n",
      "It is not the first time that the EU Commission has taken such a step.                                                                                                                                                                                                172\n",
      "                                                                                                                                                                                                                                                                      172\n",
      "<unk>                                                                                                                                                                                                                                                                 133\n",
      "to                                                                                                                                                                                                                                                                     74\n",
      "                                                                                                                                                                                                                                                                     ... \n",
      "please dont try being make black authors your personal educators. I see this online too often where people will demand to be published after being called out by someone black or their racist like... please for pure love of god google exists...                     1\n",
      "The latest The James Scroggie Daily! paper.li/seoscroggie/13… Thanks to @OnCrawl                                                                                                                                                                                        1\n",
      "Latest The James Scroggie Daily! paper.li / seoscroggie / 13... Thanks to @ OnCrawl                                                                                                                                                                                     1\n",
      "The latest The James Scroggie Daily! paper.li / seoscroggie / 13... Thanks to @ Onwl                                                                                                                                                                                    1\n",
      "Just like the windows partition of my Mac is like 6 years behind on its drivers So you have no idea how I didn’t notice                                                                                                                                                 1\n",
      "Name: count, Length: 69491, dtype: int64\n",
      "------------------------------\n"
     ]
    }
   ],
   "source": [
    "for col in df_train.columns:\n",
    "    if df_train[col].dtypes == 'object':\n",
    "        print(df_train[col].value_counts())\n",
    "        print(\"------------------------------\")"
   ]
  },
  {
   "cell_type": "code",
   "execution_count": 9,
   "id": "c8506a0c",
   "metadata": {},
   "outputs": [
    {
     "name": "stdout",
     "output_type": "stream",
     "text": [
      "Company\n",
      "RedDeadRedemption(RDR)               40\n",
      "johnson&johnson                      39\n",
      "FIFA                                 38\n",
      "PlayerUnknownsBattlegrounds(PUBG)    38\n",
      "LeagueOfLegends                      37\n",
      "ApexLegends                          36\n",
      "TomClancysRainbowSix                 35\n",
      "Nvidia                               35\n",
      "GrandTheftAuto(GTA)                  35\n",
      "Amazon                               34\n",
      "Fortnite                             34\n",
      "Facebook                             33\n",
      "PlayStation5(PS5)                    33\n",
      "AssassinsCreed                       33\n",
      "Borderlands                          33\n",
      "Overwatch                            32\n",
      "Hearthstone                          32\n",
      "Verizon                              32\n",
      "CS-GO                                32\n",
      "CallOfDuty                           31\n",
      "Cyberpunk2077                        30\n",
      "WorldOfCraft                         30\n",
      "MaddenNFL                            29\n",
      "Microsoft                            28\n",
      "Dota2                                27\n",
      "CallOfDutyBlackopsColdWar            27\n",
      "Xbox(Xseries)                        26\n",
      "Battlefield                          26\n",
      "Google                               24\n",
      "TomClancysGhostRecon                 22\n",
      "NBA2K                                21\n",
      "HomeDepot                            18\n",
      "Name: count, dtype: int64\n",
      "------------------------------\n",
      "Sentiments\n",
      "Neutral       285\n",
      "Positive      277\n",
      "Negative      266\n",
      "Irrelevant    172\n",
      "Name: count, dtype: int64\n",
      "------------------------------\n",
      "Tweets\n",
      "Wow                                                                                                                                                                                                                                                   2\n",
      "I mentioned on Facebook that I was struggling for motivation to go for a run the other day, which has been translated by Tom’s great auntie as ‘Hayley can’t get out of bed’ and told to his grandma, who now thinks I’m a lazy, terrible person 🤣    1\n",
      "Update: I actually finished Odyssey. I wish the three-ponged questline structure was communicated a bit more clearly but that game is a lot of fun once it hits its stride. twitter.com/iv_javy/status…                                               1\n",
      "Know Your History...unless it involves China....because like....we have investors and shit...                                                                                                                                                         1\n",
      "Congratulations to @ninamanning78 on publication day. Hope you have a fabulous day and that your book flies 😊📚🎉                                                                                                                                       1\n",
      "                                                                                                                                                                                                                                                     ..\n",
      "eSports: Curiosities you probably didn’t know about Red Dead Redemption 2 goalsn.com/2020/02/esport… https://t.co/JMLBSxAUou                                                                                                                          1\n",
      "Nvidia GeForce Now: Google Stadia rival suffers another blow news89.net/nvidia-geforce… https://t.co/9ijNjV7L4C                                                                                                                                       1\n",
      "I SAW A TWEET ABOUT HOW IT'S A STORY TOLD OVER AND OVER CUZ THEY'RE MAD MEN DIED IN THE WAR AND IT DIDN'T HAVE BATTLEFIELD 1 TREATMENT, I CAN'T EVEN THINK OF ANOTHER WW1 MOVIE PPL WOULD EVEN KNOW                                                   1\n",
      "Bro I had an abusive internet boyfriend that used to call me a stupid bitch whenever niggas used to like my pics on facebook and I used to beg him to not be mad at me. I was such a stupid bitch FOR REAL                                            1\n",
      "Johnson & Johnson to stop selling talc baby powder in U.S. and Canada j.mp/3e1YtDV (Reuters) https://t.co/dsaUTgb5p9                                                                                                                                  1\n",
      "Name: count, Length: 999, dtype: int64\n",
      "------------------------------\n"
     ]
    }
   ],
   "source": [
    "for col in df_val.columns:\n",
    "    if df_val[col].dtypes == 'object':\n",
    "        print(df_val[col].value_counts())\n",
    "        print(\"------------------------------\")"
   ]
  },
  {
   "cell_type": "markdown",
   "id": "1ef5b8db",
   "metadata": {},
   "source": [
    "### Duplicates"
   ]
  },
  {
   "cell_type": "code",
   "execution_count": 10,
   "id": "a7a7baa9",
   "metadata": {},
   "outputs": [
    {
     "data": {
      "text/plain": [
       "2700"
      ]
     },
     "execution_count": 10,
     "metadata": {},
     "output_type": "execute_result"
    }
   ],
   "source": [
    "df_train.duplicated().sum()"
   ]
  },
  {
   "cell_type": "code",
   "execution_count": 11,
   "id": "8400c862",
   "metadata": {},
   "outputs": [
    {
     "data": {
      "text/plain": [
       "0"
      ]
     },
     "execution_count": 11,
     "metadata": {},
     "output_type": "execute_result"
    }
   ],
   "source": [
    "df_val.duplicated().sum()"
   ]
  },
  {
   "cell_type": "markdown",
   "id": "4469e953",
   "metadata": {},
   "source": [
    "### Dropping Missing values"
   ]
  },
  {
   "cell_type": "code",
   "execution_count": 12,
   "id": "7ef4a330",
   "metadata": {},
   "outputs": [],
   "source": [
    "df_train.dropna(inplace=True)"
   ]
  },
  {
   "cell_type": "code",
   "execution_count": 13,
   "id": "39f739a5",
   "metadata": {},
   "outputs": [
    {
     "data": {
      "text/plain": [
       "Tweet_Id      0\n",
       "Company       0\n",
       "Sentiments    0\n",
       "Tweets        0\n",
       "dtype: int64"
      ]
     },
     "execution_count": 13,
     "metadata": {},
     "output_type": "execute_result"
    }
   ],
   "source": [
    "df_train.isnull().sum()"
   ]
  },
  {
   "cell_type": "markdown",
   "id": "76ae92de",
   "metadata": {},
   "source": [
    "### Dropping Duplicates"
   ]
  },
  {
   "cell_type": "code",
   "execution_count": 14,
   "id": "8813a4cb",
   "metadata": {},
   "outputs": [],
   "source": [
    "df_train.drop_duplicates(keep='first',inplace=True)"
   ]
  },
  {
   "cell_type": "code",
   "execution_count": 15,
   "id": "c7177483",
   "metadata": {},
   "outputs": [
    {
     "data": {
      "text/plain": [
       "0"
      ]
     },
     "execution_count": 15,
     "metadata": {},
     "output_type": "execute_result"
    }
   ],
   "source": [
    "df_train.duplicated().sum()"
   ]
  },
  {
   "cell_type": "code",
   "execution_count": 16,
   "id": "8bdb0086",
   "metadata": {},
   "outputs": [
    {
     "data": {
      "text/plain": [
       "(71656, 4)"
      ]
     },
     "execution_count": 16,
     "metadata": {},
     "output_type": "execute_result"
    }
   ],
   "source": [
    "df_train.shape"
   ]
  },
  {
   "cell_type": "code",
   "execution_count": 17,
   "id": "1caa021b",
   "metadata": {},
   "outputs": [
    {
     "data": {
      "text/plain": [
       "(1000, 4)"
      ]
     },
     "execution_count": 17,
     "metadata": {},
     "output_type": "execute_result"
    }
   ],
   "source": [
    "df_val.shape"
   ]
  },
  {
   "cell_type": "markdown",
   "id": "b7174f17",
   "metadata": {},
   "source": [
    "### Dropping columns Tweet Id"
   ]
  },
  {
   "cell_type": "code",
   "execution_count": 18,
   "id": "19305205",
   "metadata": {},
   "outputs": [],
   "source": [
    "df_train.drop('Tweet_Id',axis=1,inplace=True)\n",
    "df_val.drop('Tweet_Id',axis=1,inplace=True)"
   ]
  },
  {
   "cell_type": "code",
   "execution_count": 19,
   "id": "db4ac19d",
   "metadata": {},
   "outputs": [
    {
     "data": {
      "text/html": [
       "<div>\n",
       "<style scoped>\n",
       "    .dataframe tbody tr th:only-of-type {\n",
       "        vertical-align: middle;\n",
       "    }\n",
       "\n",
       "    .dataframe tbody tr th {\n",
       "        vertical-align: top;\n",
       "    }\n",
       "\n",
       "    .dataframe thead th {\n",
       "        text-align: right;\n",
       "    }\n",
       "</style>\n",
       "<table border=\"1\" class=\"dataframe\">\n",
       "  <thead>\n",
       "    <tr style=\"text-align: right;\">\n",
       "      <th></th>\n",
       "      <th>Company</th>\n",
       "      <th>Sentiments</th>\n",
       "      <th>Tweets</th>\n",
       "    </tr>\n",
       "  </thead>\n",
       "  <tbody>\n",
       "    <tr>\n",
       "      <th>0</th>\n",
       "      <td>Borderlands</td>\n",
       "      <td>Positive</td>\n",
       "      <td>im getting on borderlands and i will murder yo...</td>\n",
       "    </tr>\n",
       "    <tr>\n",
       "      <th>1</th>\n",
       "      <td>Borderlands</td>\n",
       "      <td>Positive</td>\n",
       "      <td>I am coming to the borders and I will kill you...</td>\n",
       "    </tr>\n",
       "  </tbody>\n",
       "</table>\n",
       "</div>"
      ],
      "text/plain": [
       "       Company Sentiments                                             Tweets\n",
       "0  Borderlands   Positive  im getting on borderlands and i will murder yo...\n",
       "1  Borderlands   Positive  I am coming to the borders and I will kill you..."
      ]
     },
     "execution_count": 19,
     "metadata": {},
     "output_type": "execute_result"
    }
   ],
   "source": [
    "df_train.head(2)"
   ]
  },
  {
   "cell_type": "code",
   "execution_count": 20,
   "id": "249070a7",
   "metadata": {},
   "outputs": [],
   "source": [
    "import seaborn as sns"
   ]
  },
  {
   "cell_type": "code",
   "execution_count": 21,
   "id": "21633291",
   "metadata": {},
   "outputs": [
    {
     "data": {
      "image/png": "[encoded data removed]",
      "text/plain": [
       "<Figure size 500x300 with 1 Axes>"
      ]
     },
     "metadata": {},
     "output_type": "display_data"
    }
   ],
   "source": [
    "plt.figure(figsize=(5,3))\n",
    "sns.countplot(x='Sentiments',data=df_train,palette='turbo')   # palette=\"gnuplot\"\n",
    "plt.show()"
   ]
  },
  {
   "cell_type": "code",
   "execution_count": 22,
   "id": "11672c5a",
   "metadata": {},
   "outputs": [
    {
     "data": {
      "text/plain": [
       "0        im getting on borderlands and i will murder yo...\n",
       "1        I am coming to the borders and I will kill you...\n",
       "2        im getting on borderlands and i will kill you ...\n",
       "3        im coming on borderlands and i will murder you...\n",
       "4        im getting on borderlands 2 and i will murder ...\n",
       "                               ...                        \n",
       "74677    Just realized that the Windows partition of my...\n",
       "74678    Just realized that my Mac window partition is ...\n",
       "74679    Just realized the windows partition of my Mac ...\n",
       "74680    Just realized between the windows partition of...\n",
       "74681    Just like the windows partition of my Mac is l...\n",
       "Name: Tweets, Length: 71656, dtype: object"
      ]
     },
     "execution_count": 22,
     "metadata": {},
     "output_type": "execute_result"
    }
   ],
   "source": [
    "df_train['Tweets']"
   ]
  },
  {
   "cell_type": "code",
   "execution_count": 23,
   "id": "80ac3f9e",
   "metadata": {},
   "outputs": [
    {
     "data": {
      "text/plain": [
       "\"Just realized that my Mac window partition is 6 years behind on Nvidia drivers and I have no idea how I didn't notice\""
      ]
     },
     "execution_count": 23,
     "metadata": {},
     "output_type": "execute_result"
    }
   ],
   "source": [
    "df_train['Tweets'][74678]"
   ]
  },
  {
   "cell_type": "code",
   "execution_count": 24,
   "id": "3579169a",
   "metadata": {},
   "outputs": [
    {
     "data": {
      "text/plain": [
       "<Axes: xlabel='Company'>"
      ]
     },
     "execution_count": 24,
     "metadata": {},
     "output_type": "execute_result"
    },
    {
     "data": {
      "image/png": "[encoded data removed]",
      "text/plain": [
       "<Figure size 1600x600 with 1 Axes>"
      ]
     },
     "metadata": {},
     "output_type": "display_data"
    }
   ],
   "source": [
    "comp_sentiment = pd.crosstab(df_train['Company'],df_train['Sentiments'])\n",
    "comp_sentiment.plot(kind='bar', figsize=(16, 6),grid=True)"
   ]
  },
  {
   "cell_type": "markdown",
   "id": "e1dfdac7",
   "metadata": {},
   "source": [
    "### Data Pre-Processing"
   ]
  },
  {
   "cell_type": "code",
   "execution_count": 25,
   "id": "c50842db",
   "metadata": {},
   "outputs": [
    {
     "name": "stderr",
     "output_type": "stream",
     "text": [
      "[nltk_data] Downloading package punkt to\n",
      "[nltk_data]     C:\\Users\\USER\\AppData\\Roaming\\nltk_data...\n",
      "[nltk_data]   Package punkt is already up-to-date!\n"
     ]
    }
   ],
   "source": [
    "import nltk\n",
    "import re\n",
    "import string\n",
    "from nltk.corpus import stopwords\n",
    "from string import punctuation\n",
    "nltk.download('punkt')\n",
    "from nltk.tokenize import word_tokenize"
   ]
  },
  {
   "cell_type": "code",
   "execution_count": 200,
   "id": "fc0f5e83",
   "metadata": {},
   "outputs": [
    {
     "data": {
      "text/plain": [
       "\"nltk.download('stopwords')\\nstop_words = set(stopwords.words('english'))\\n\\ndef text_cleaner(text):\\n    text = text.lower()\\n    text = re.sub(r'unk' , ' ' , text)\\n    text = re.sub('\\n', '', text)\\n    text = re.sub(r'[^a-z\\\\s]', '', text)\\n    text = text.strip()\\n    text = ' '.join(word for word in text.split() if word not in stop_words)\\n    return text\""
      ]
     },
     "execution_count": 200,
     "metadata": {},
     "output_type": "execute_result"
    }
   ],
   "source": [
    "\"\"\"nltk.download('stopwords')\n",
    "stop_words = set(stopwords.words('english'))\n",
    "\n",
    "def text_cleaner(text):\n",
    "    text = text.lower()\n",
    "    text = re.sub(r'unk' , ' ' , text)\n",
    "    text = re.sub('\\n', '', text)\n",
    "    text = re.sub(r'[^a-z\\s]', '', text)\n",
    "    text = text.strip()\n",
    "    text = ' '.join(word for word in text.split() if word not in stop_words)\n",
    "    return text\"\"\""
   ]
  },
  {
   "cell_type": "markdown",
   "id": "2d85c52b",
   "metadata": {},
   "source": [
    "### Lower Case Conversion"
   ]
  },
  {
   "cell_type": "code",
   "execution_count": 26,
   "id": "b42b611d",
   "metadata": {},
   "outputs": [],
   "source": [
    "df_train['Tweets'] = df_train['Tweets'].str.lower()\n",
    "#df_val['Tweets'] = df_val['Tweets'].str.lower()"
   ]
  },
  {
   "cell_type": "markdown",
   "id": "b99968c7",
   "metadata": {},
   "source": [
    "### Removing Stopwords"
   ]
  },
  {
   "cell_type": "code",
   "execution_count": 27,
   "id": "f69ab2cb",
   "metadata": {},
   "outputs": [],
   "source": [
    "stopwords = nltk.corpus.stopwords.words('english') +list(string.punctuation) "
   ]
  },
  {
   "cell_type": "code",
   "execution_count": 28,
   "id": "72e5f8cf",
   "metadata": {},
   "outputs": [],
   "source": [
    "df_train['Tweets'] = df_train['Tweets'].apply(lambda x: [item for item in x.split() if item not in stopwords]).apply(lambda x:\" \".join(x))\n",
    "#df_val['Tweets'] = df_val['Tweets'].apply(lambda x: [item for item in x.split() if item not in stopwords]).apply(lambda x:\" \".join(x))"
   ]
  },
  {
   "cell_type": "code",
   "execution_count": 29,
   "id": "23389448",
   "metadata": {},
   "outputs": [
    {
     "data": {
      "text/html": [
       "<div>\n",
       "<style scoped>\n",
       "    .dataframe tbody tr th:only-of-type {\n",
       "        vertical-align: middle;\n",
       "    }\n",
       "\n",
       "    .dataframe tbody tr th {\n",
       "        vertical-align: top;\n",
       "    }\n",
       "\n",
       "    .dataframe thead th {\n",
       "        text-align: right;\n",
       "    }\n",
       "</style>\n",
       "<table border=\"1\" class=\"dataframe\">\n",
       "  <thead>\n",
       "    <tr style=\"text-align: right;\">\n",
       "      <th></th>\n",
       "      <th>Company</th>\n",
       "      <th>Sentiments</th>\n",
       "      <th>Tweets</th>\n",
       "    </tr>\n",
       "  </thead>\n",
       "  <tbody>\n",
       "    <tr>\n",
       "      <th>0</th>\n",
       "      <td>Borderlands</td>\n",
       "      <td>Positive</td>\n",
       "      <td>im getting borderlands murder</td>\n",
       "    </tr>\n",
       "    <tr>\n",
       "      <th>1</th>\n",
       "      <td>Borderlands</td>\n",
       "      <td>Positive</td>\n",
       "      <td>coming borders kill all,</td>\n",
       "    </tr>\n",
       "    <tr>\n",
       "      <th>2</th>\n",
       "      <td>Borderlands</td>\n",
       "      <td>Positive</td>\n",
       "      <td>im getting borderlands kill all,</td>\n",
       "    </tr>\n",
       "    <tr>\n",
       "      <th>3</th>\n",
       "      <td>Borderlands</td>\n",
       "      <td>Positive</td>\n",
       "      <td>im coming borderlands murder all,</td>\n",
       "    </tr>\n",
       "    <tr>\n",
       "      <th>4</th>\n",
       "      <td>Borderlands</td>\n",
       "      <td>Positive</td>\n",
       "      <td>im getting borderlands 2 murder all,</td>\n",
       "    </tr>\n",
       "  </tbody>\n",
       "</table>\n",
       "</div>"
      ],
      "text/plain": [
       "       Company Sentiments                                Tweets\n",
       "0  Borderlands   Positive         im getting borderlands murder\n",
       "1  Borderlands   Positive              coming borders kill all,\n",
       "2  Borderlands   Positive      im getting borderlands kill all,\n",
       "3  Borderlands   Positive     im coming borderlands murder all,\n",
       "4  Borderlands   Positive  im getting borderlands 2 murder all,"
      ]
     },
     "execution_count": 29,
     "metadata": {},
     "output_type": "execute_result"
    }
   ],
   "source": [
    "df_train.head()"
   ]
  },
  {
   "cell_type": "code",
   "execution_count": 30,
   "id": "ef2b21d9",
   "metadata": {},
   "outputs": [
    {
     "data": {
      "text/plain": [
       "'realized mac window partition 6 years behind nvidia drivers idea notice'"
      ]
     },
     "execution_count": 30,
     "metadata": {},
     "output_type": "execute_result"
    }
   ],
   "source": [
    "df_train['Tweets'][74678]"
   ]
  },
  {
   "cell_type": "code",
   "execution_count": 31,
   "id": "4ea489c1",
   "metadata": {},
   "outputs": [
    {
     "data": {
      "text/plain": [
       "'coming borders kill all,'"
      ]
     },
     "execution_count": 31,
     "metadata": {},
     "output_type": "execute_result"
    }
   ],
   "source": [
    "df_train['Tweets'][1]"
   ]
  },
  {
   "cell_type": "code",
   "execution_count": 32,
   "id": "ce3f6fd9",
   "metadata": {},
   "outputs": [],
   "source": [
    "df_train['Tweets'] = df_train['Tweets'].str.replace('[^\\w\\s]','')\n",
    "#\\w: Returns a match where the string contains any word characters (characters from a to Z, digits from 0-9, and the underscore _ character)\n",
    "#\\s: Returns a match where the string contains a white space character.\n",
    "#[^]: Returns a match for any character EXCEPT what is written after it.\n",
    "# df_val['Tweets'] = df_val['Tweets'].str.replace('[^\\w\\s]','')"
   ]
  },
  {
   "cell_type": "code",
   "execution_count": 33,
   "id": "d8d183be",
   "metadata": {},
   "outputs": [
    {
     "data": {
      "text/plain": [
       "'coming borders kill all,'"
      ]
     },
     "execution_count": 33,
     "metadata": {},
     "output_type": "execute_result"
    }
   ],
   "source": [
    "df_train['Tweets'][1]"
   ]
  },
  {
   "cell_type": "code",
   "execution_count": 34,
   "id": "39223fd4",
   "metadata": {},
   "outputs": [
    {
     "data": {
      "text/plain": [
       "'realized mac window partition 6 years behind nvidia drivers idea notice'"
      ]
     },
     "execution_count": 34,
     "metadata": {},
     "output_type": "execute_result"
    }
   ],
   "source": [
    "df_train['Tweets'][74678]"
   ]
  },
  {
   "cell_type": "code",
   "execution_count": 35,
   "id": "1284eed8",
   "metadata": {},
   "outputs": [],
   "source": [
    "exclude = string.punctuation"
   ]
  },
  {
   "cell_type": "code",
   "execution_count": 36,
   "id": "80796013",
   "metadata": {},
   "outputs": [],
   "source": [
    "def remove_punc(text):\n",
    "    return text.translate(str.maketrans('', '', exclude))"
   ]
  },
  {
   "cell_type": "code",
   "execution_count": 37,
   "id": "98e915ea",
   "metadata": {},
   "outputs": [],
   "source": [
    "df_train['Tweets'] = df_train['Tweets'].apply(remove_punc)\n",
    "# df_val['Tweets'] = df_val['Tweets'].apply(remove_punc1)"
   ]
  },
  {
   "cell_type": "code",
   "execution_count": 38,
   "id": "6cea5eea",
   "metadata": {},
   "outputs": [
    {
     "data": {
      "text/plain": [
       "'realized mac window partition 6 years behind nvidia drivers idea notice'"
      ]
     },
     "execution_count": 38,
     "metadata": {},
     "output_type": "execute_result"
    }
   ],
   "source": [
    "df_train['Tweets'][74678]"
   ]
  },
  {
   "cell_type": "markdown",
   "id": "1ad328c9",
   "metadata": {},
   "source": [
    "### Removing Unwanted Characters"
   ]
  },
  {
   "cell_type": "code",
   "execution_count": 39,
   "id": "67eae492",
   "metadata": {},
   "outputs": [],
   "source": [
    "def clean_data(text):\n",
    "    text = re.sub(r'<.*?>','',text)    # Remove html tags\n",
    "    text = re.sub(r'@\\S+', '', text)\n",
    "    text = re.sub(r'https?://\\S+|www\\.\\S+','',text)   # Remove URL's\n",
    "    text = re.sub(r\"[^a-zA-Z+']\", ' ', text)\n",
    "    text = re.sub(r'[^\\w\\s]','',text)\n",
    "    #text = re.sub(r'[^\\w\\s]','')\n",
    "    # word = nltk.word_tokenize(text)\n",
    "    text = re.sub(\"\\s[\\s]+\", \" \", text).strip()  # Remove repeated/leading/trailing spaces\n",
    "    return text\n",
    "    \n",
    "    "
   ]
  },
  {
   "cell_type": "code",
   "execution_count": 40,
   "id": "952b4fed",
   "metadata": {},
   "outputs": [],
   "source": [
    "df_train['Tweets'] = df_train['Tweets'].apply(clean_data)\n",
    "# df_val['Tweets'] = df_val['Tweets'].apply(clean_data)"
   ]
  },
  {
   "cell_type": "code",
   "execution_count": 41,
   "id": "28598ddb",
   "metadata": {},
   "outputs": [
    {
     "data": {
      "text/plain": [
       "'realized mac window partition years behind nvidia drivers idea notice'"
      ]
     },
     "execution_count": 41,
     "metadata": {},
     "output_type": "execute_result"
    }
   ],
   "source": [
    "df_train['Tweets'][74678]"
   ]
  },
  {
   "cell_type": "markdown",
   "id": "5d1861e8",
   "metadata": {},
   "source": [
    "### Stemming"
   ]
  },
  {
   "cell_type": "code",
   "execution_count": 42,
   "id": "60a6985e",
   "metadata": {},
   "outputs": [],
   "source": [
    "from nltk.stem import PorterStemmer"
   ]
  },
  {
   "cell_type": "code",
   "execution_count": 43,
   "id": "9801575d",
   "metadata": {},
   "outputs": [],
   "source": [
    "st = PorterStemmer()\n",
    "df_train['Tweets'] = df_train['Tweets'].apply(lambda x: \" \".join([st.stem(word) for word in x.split()]))\n",
    "# df_val['Tweets'] = df_val['Tweets'].apply(lambda x: \" \".join([st.stem(word) for word in x.split()]))"
   ]
  },
  {
   "cell_type": "code",
   "execution_count": 44,
   "id": "1b9be4df",
   "metadata": {},
   "outputs": [
    {
     "data": {
      "text/plain": [
       "'realiz mac window partit year behind nvidia driver idea notic'"
      ]
     },
     "execution_count": 44,
     "metadata": {},
     "output_type": "execute_result"
    }
   ],
   "source": [
    "df_train['Tweets'][74678]"
   ]
  },
  {
   "cell_type": "code",
   "execution_count": 45,
   "id": "11c3f670",
   "metadata": {},
   "outputs": [
    {
     "data": {
      "text/plain": [
       "'spent hour make someth fun know huge rhandlerr fan maya one favorit charact decid make wallpap pc origin imag versu creation made enjoy pictwittercommlsi wf jg'"
      ]
     },
     "execution_count": 45,
     "metadata": {},
     "output_type": "execute_result"
    }
   ],
   "source": [
    "df_train['Tweets'][10]"
   ]
  },
  {
   "cell_type": "code",
   "execution_count": 46,
   "id": "eb8095d1",
   "metadata": {},
   "outputs": [
    {
     "data": {
      "text/plain": [
       "Company       0\n",
       "Sentiments    0\n",
       "Tweets        0\n",
       "dtype: int64"
      ]
     },
     "execution_count": 46,
     "metadata": {},
     "output_type": "execute_result"
    }
   ],
   "source": [
    "df_train.isnull().sum()"
   ]
  },
  {
   "cell_type": "code",
   "execution_count": 47,
   "id": "a07deac1",
   "metadata": {},
   "outputs": [
    {
     "data": {
      "text/plain": [
       "71656"
      ]
     },
     "execution_count": 47,
     "metadata": {},
     "output_type": "execute_result"
    }
   ],
   "source": [
    "len(df_train['Tweets'])\n"
   ]
  },
  {
   "cell_type": "code",
   "execution_count": 48,
   "id": "f5adc5ec",
   "metadata": {},
   "outputs": [
    {
     "data": {
      "text/plain": [
       "(71656, 3)"
      ]
     },
     "execution_count": 48,
     "metadata": {},
     "output_type": "execute_result"
    }
   ],
   "source": [
    "df_train.shape"
   ]
  },
  {
   "cell_type": "code",
   "execution_count": 49,
   "id": "cbe5183f",
   "metadata": {},
   "outputs": [
    {
     "data": {
      "text/plain": [
       "(10000, 3)"
      ]
     },
     "execution_count": 49,
     "metadata": {},
     "output_type": "execute_result"
    }
   ],
   "source": [
    "df_trainNew = df_train.iloc[:10000]\n",
    "df_trainNew.shape"
   ]
  },
  {
   "cell_type": "code",
   "execution_count": null,
   "id": "78504394",
   "metadata": {},
   "outputs": [],
   "source": [
    "#vdf_valnew = df_val.iloc[:]"
   ]
  },
  {
   "cell_type": "markdown",
   "id": "95ac68e0",
   "metadata": {},
   "source": [
    "### Text Vectorization Using TF-IDF"
   ]
  },
  {
   "cell_type": "code",
   "execution_count": 51,
   "id": "0dfd7f7a",
   "metadata": {},
   "outputs": [],
   "source": [
    "from sklearn.feature_extraction.text import TfidfVectorizer"
   ]
  },
  {
   "cell_type": "code",
   "execution_count": 52,
   "id": "861fd7e7",
   "metadata": {},
   "outputs": [],
   "source": [
    "tfidf = TfidfVectorizer()\n",
    "train_tfidf = tfidf.fit_transform(df_trainNew['Tweets']).toarray()\n",
    "                \n",
    "                \n",
    "#train_tfidf = ((tfidf.fit_transform(df_train['Tweets'])).astype(dtype='uint8')).toarray()\n",
    "\n",
    "# val_tfidf = tfidf.transform(df_val['Tweets']).toarray()"
   ]
  },
  {
   "cell_type": "code",
   "execution_count": 53,
   "id": "f9d71e80",
   "metadata": {},
   "outputs": [
    {
     "name": "stdout",
     "output_type": "stream",
     "text": [
      "[[0. 0. 0. ... 0. 0. 0.]\n",
      " [0. 0. 0. ... 0. 0. 0.]\n",
      " [0. 0. 0. ... 0. 0. 0.]\n",
      " ...\n",
      " [0. 0. 0. ... 0. 0. 0.]\n",
      " [0. 0. 0. ... 0. 0. 0.]\n",
      " [0. 0. 0. ... 0. 0. 0.]]\n"
     ]
    }
   ],
   "source": [
    "print(train_tfidf)"
   ]
  },
  {
   "cell_type": "code",
   "execution_count": 54,
   "id": "9bfef523",
   "metadata": {},
   "outputs": [],
   "source": [
    "# train_tfidf = train_tfidf.iloc[:40000]"
   ]
  },
  {
   "cell_type": "code",
   "execution_count": 55,
   "id": "ecea5d1d",
   "metadata": {},
   "outputs": [],
   "source": [
    "# print(val_tfidf)"
   ]
  },
  {
   "cell_type": "code",
   "execution_count": 56,
   "id": "6ecb9100",
   "metadata": {},
   "outputs": [
    {
     "data": {
      "text/plain": [
       "(10000, 8090)"
      ]
     },
     "execution_count": 56,
     "metadata": {},
     "output_type": "execute_result"
    }
   ],
   "source": [
    "train_tfidf.shape"
   ]
  },
  {
   "cell_type": "code",
   "execution_count": 230,
   "id": "7235fc5c",
   "metadata": {},
   "outputs": [
    {
     "data": {
      "text/plain": [
       "(1000, 30455)"
      ]
     },
     "execution_count": 230,
     "metadata": {},
     "output_type": "execute_result"
    }
   ],
   "source": [
    "# val_tfidf.shape"
   ]
  },
  {
   "cell_type": "code",
   "execution_count": 57,
   "id": "784943ce",
   "metadata": {},
   "outputs": [],
   "source": [
    "feature_names = tfidf.get_feature_names_out()"
   ]
  },
  {
   "cell_type": "code",
   "execution_count": 58,
   "id": "d3bc7823",
   "metadata": {},
   "outputs": [
    {
     "name": "stdout",
     "output_type": "stream",
     "text": [
      "(8090,)\n"
     ]
    }
   ],
   "source": [
    "print(feature_names.shape)"
   ]
  },
  {
   "cell_type": "code",
   "execution_count": 60,
   "id": "2cbe74bc",
   "metadata": {},
   "outputs": [
    {
     "data": {
      "text/html": [
       "<div>\n",
       "<style scoped>\n",
       "    .dataframe tbody tr th:only-of-type {\n",
       "        vertical-align: middle;\n",
       "    }\n",
       "\n",
       "    .dataframe tbody tr th {\n",
       "        vertical-align: top;\n",
       "    }\n",
       "\n",
       "    .dataframe thead th {\n",
       "        text-align: right;\n",
       "    }\n",
       "</style>\n",
       "<table border=\"1\" class=\"dataframe\">\n",
       "  <thead>\n",
       "    <tr style=\"text-align: right;\">\n",
       "      <th></th>\n",
       "      <th>aa</th>\n",
       "      <th>aaaahhh</th>\n",
       "      <th>aall</th>\n",
       "      <th>ab</th>\n",
       "      <th>abandon</th>\n",
       "      <th>abb</th>\n",
       "      <th>abba</th>\n",
       "      <th>abbi</th>\n",
       "      <th>abbott</th>\n",
       "      <th>abduct</th>\n",
       "      <th>...</th>\n",
       "      <th>zxxxvidsspac</th>\n",
       "      <th>zxxxvidsspacepphph</th>\n",
       "      <th>zxxxvispac</th>\n",
       "      <th>zy</th>\n",
       "      <th>zyfapoihpi</th>\n",
       "      <th>zynk</th>\n",
       "      <th>zz</th>\n",
       "      <th>zzgi</th>\n",
       "      <th>zzmhpax</th>\n",
       "      <th>zzmhpaxzo</th>\n",
       "    </tr>\n",
       "  </thead>\n",
       "  <tbody>\n",
       "    <tr>\n",
       "      <th>0</th>\n",
       "      <td>0.0</td>\n",
       "      <td>0.0</td>\n",
       "      <td>0.0</td>\n",
       "      <td>0.0</td>\n",
       "      <td>0.0</td>\n",
       "      <td>0.0</td>\n",
       "      <td>0.0</td>\n",
       "      <td>0.0</td>\n",
       "      <td>0.0</td>\n",
       "      <td>0.0</td>\n",
       "      <td>...</td>\n",
       "      <td>0.0</td>\n",
       "      <td>0.0</td>\n",
       "      <td>0.0</td>\n",
       "      <td>0.0</td>\n",
       "      <td>0.0</td>\n",
       "      <td>0.0</td>\n",
       "      <td>0.0</td>\n",
       "      <td>0.0</td>\n",
       "      <td>0.0</td>\n",
       "      <td>0.0</td>\n",
       "    </tr>\n",
       "    <tr>\n",
       "      <th>1</th>\n",
       "      <td>0.0</td>\n",
       "      <td>0.0</td>\n",
       "      <td>0.0</td>\n",
       "      <td>0.0</td>\n",
       "      <td>0.0</td>\n",
       "      <td>0.0</td>\n",
       "      <td>0.0</td>\n",
       "      <td>0.0</td>\n",
       "      <td>0.0</td>\n",
       "      <td>0.0</td>\n",
       "      <td>...</td>\n",
       "      <td>0.0</td>\n",
       "      <td>0.0</td>\n",
       "      <td>0.0</td>\n",
       "      <td>0.0</td>\n",
       "      <td>0.0</td>\n",
       "      <td>0.0</td>\n",
       "      <td>0.0</td>\n",
       "      <td>0.0</td>\n",
       "      <td>0.0</td>\n",
       "      <td>0.0</td>\n",
       "    </tr>\n",
       "    <tr>\n",
       "      <th>2</th>\n",
       "      <td>0.0</td>\n",
       "      <td>0.0</td>\n",
       "      <td>0.0</td>\n",
       "      <td>0.0</td>\n",
       "      <td>0.0</td>\n",
       "      <td>0.0</td>\n",
       "      <td>0.0</td>\n",
       "      <td>0.0</td>\n",
       "      <td>0.0</td>\n",
       "      <td>0.0</td>\n",
       "      <td>...</td>\n",
       "      <td>0.0</td>\n",
       "      <td>0.0</td>\n",
       "      <td>0.0</td>\n",
       "      <td>0.0</td>\n",
       "      <td>0.0</td>\n",
       "      <td>0.0</td>\n",
       "      <td>0.0</td>\n",
       "      <td>0.0</td>\n",
       "      <td>0.0</td>\n",
       "      <td>0.0</td>\n",
       "    </tr>\n",
       "    <tr>\n",
       "      <th>3</th>\n",
       "      <td>0.0</td>\n",
       "      <td>0.0</td>\n",
       "      <td>0.0</td>\n",
       "      <td>0.0</td>\n",
       "      <td>0.0</td>\n",
       "      <td>0.0</td>\n",
       "      <td>0.0</td>\n",
       "      <td>0.0</td>\n",
       "      <td>0.0</td>\n",
       "      <td>0.0</td>\n",
       "      <td>...</td>\n",
       "      <td>0.0</td>\n",
       "      <td>0.0</td>\n",
       "      <td>0.0</td>\n",
       "      <td>0.0</td>\n",
       "      <td>0.0</td>\n",
       "      <td>0.0</td>\n",
       "      <td>0.0</td>\n",
       "      <td>0.0</td>\n",
       "      <td>0.0</td>\n",
       "      <td>0.0</td>\n",
       "    </tr>\n",
       "    <tr>\n",
       "      <th>4</th>\n",
       "      <td>0.0</td>\n",
       "      <td>0.0</td>\n",
       "      <td>0.0</td>\n",
       "      <td>0.0</td>\n",
       "      <td>0.0</td>\n",
       "      <td>0.0</td>\n",
       "      <td>0.0</td>\n",
       "      <td>0.0</td>\n",
       "      <td>0.0</td>\n",
       "      <td>0.0</td>\n",
       "      <td>...</td>\n",
       "      <td>0.0</td>\n",
       "      <td>0.0</td>\n",
       "      <td>0.0</td>\n",
       "      <td>0.0</td>\n",
       "      <td>0.0</td>\n",
       "      <td>0.0</td>\n",
       "      <td>0.0</td>\n",
       "      <td>0.0</td>\n",
       "      <td>0.0</td>\n",
       "      <td>0.0</td>\n",
       "    </tr>\n",
       "  </tbody>\n",
       "</table>\n",
       "<p>5 rows × 8090 columns</p>\n",
       "</div>"
      ],
      "text/plain": [
       "    aa  aaaahhh  aall   ab  abandon  abb  abba  abbi  abbott  abduct  ...  \\\n",
       "0  0.0      0.0   0.0  0.0      0.0  0.0   0.0   0.0     0.0     0.0  ...   \n",
       "1  0.0      0.0   0.0  0.0      0.0  0.0   0.0   0.0     0.0     0.0  ...   \n",
       "2  0.0      0.0   0.0  0.0      0.0  0.0   0.0   0.0     0.0     0.0  ...   \n",
       "3  0.0      0.0   0.0  0.0      0.0  0.0   0.0   0.0     0.0     0.0  ...   \n",
       "4  0.0      0.0   0.0  0.0      0.0  0.0   0.0   0.0     0.0     0.0  ...   \n",
       "\n",
       "   zxxxvidsspac  zxxxvidsspacepphph  zxxxvispac   zy  zyfapoihpi  zynk   zz  \\\n",
       "0           0.0                 0.0         0.0  0.0         0.0   0.0  0.0   \n",
       "1           0.0                 0.0         0.0  0.0         0.0   0.0  0.0   \n",
       "2           0.0                 0.0         0.0  0.0         0.0   0.0  0.0   \n",
       "3           0.0                 0.0         0.0  0.0         0.0   0.0  0.0   \n",
       "4           0.0                 0.0         0.0  0.0         0.0   0.0  0.0   \n",
       "\n",
       "   zzgi  zzmhpax  zzmhpaxzo  \n",
       "0   0.0      0.0        0.0  \n",
       "1   0.0      0.0        0.0  \n",
       "2   0.0      0.0        0.0  \n",
       "3   0.0      0.0        0.0  \n",
       "4   0.0      0.0        0.0  \n",
       "\n",
       "[5 rows x 8090 columns]"
      ]
     },
     "execution_count": 60,
     "metadata": {},
     "output_type": "execute_result"
    }
   ],
   "source": [
    "vect_dfTrain = pd.DataFrame(train_tfidf,columns=tfidf.get_feature_names_out())\n",
    "vect_dfTrain.head()"
   ]
  },
  {
   "cell_type": "code",
   "execution_count": 61,
   "id": "5bee92c6",
   "metadata": {},
   "outputs": [
    {
     "data": {
      "text/plain": [
       "(10000, 8090)"
      ]
     },
     "execution_count": 61,
     "metadata": {},
     "output_type": "execute_result"
    }
   ],
   "source": [
    "vect_dfTrain.shape"
   ]
  },
  {
   "cell_type": "markdown",
   "id": "a9197741",
   "metadata": {},
   "source": [
    "### Model Building"
   ]
  },
  {
   "cell_type": "code",
   "execution_count": 68,
   "id": "ab64140b",
   "metadata": {},
   "outputs": [],
   "source": [
    "from sklearn.pipeline import Pipeline\n",
    "from sklearn.naive_bayes import MultinomialNB\n",
    "from sklearn.svm import LinearSVC\n",
    "from sklearn.metrics import accuracy_score, classification_report,ConfusionMatrixDisplay\n",
    "from sklearn.model_selection import train_test_split"
   ]
  },
  {
   "cell_type": "code",
   "execution_count": 63,
   "id": "4ae3dede",
   "metadata": {},
   "outputs": [],
   "source": [
    "X = vect_dfTrain\n",
    "y = df_trainNew['Sentiments']"
   ]
  },
  {
   "cell_type": "code",
   "execution_count": 64,
   "id": "46b48593",
   "metadata": {},
   "outputs": [
    {
     "data": {
      "text/plain": [
       "((10000, 8090), (10000,))"
      ]
     },
     "execution_count": 64,
     "metadata": {},
     "output_type": "execute_result"
    }
   ],
   "source": [
    "X.shape, y.shape"
   ]
  },
  {
   "cell_type": "code",
   "execution_count": 65,
   "id": "a4c0b382",
   "metadata": {},
   "outputs": [],
   "source": [
    "X_train, X_test, y_train, y_test = train_test_split(X, y, test_size=0.20, random_state=42)"
   ]
  },
  {
   "cell_type": "code",
   "execution_count": 66,
   "id": "844dfdcd",
   "metadata": {},
   "outputs": [
    {
     "data": {
      "text/plain": [
       "((8000, 8090), (2000, 8090))"
      ]
     },
     "execution_count": 66,
     "metadata": {},
     "output_type": "execute_result"
    }
   ],
   "source": [
    "X_train.shape, X_test.shape"
   ]
  },
  {
   "cell_type": "code",
   "execution_count": 67,
   "id": "12ecc9fc",
   "metadata": {},
   "outputs": [],
   "source": [
    "from sklearn.ensemble import RandomForestClassifier"
   ]
  },
  {
   "cell_type": "code",
   "execution_count": 69,
   "id": "e1ead9e7",
   "metadata": {},
   "outputs": [
    {
     "data": {
      "text/html": [
       "<style>#sk-container-id-1 {color: black;background-color: white;}#sk-container-id-1 pre{padding: 0;}#sk-container-id-1 div.sk-toggleable {background-color: white;}#sk-container-id-1 label.sk-toggleable__label {cursor: pointer;display: block;width: 100%;margin-bottom: 0;padding: 0.3em;box-sizing: border-box;text-align: center;}#sk-container-id-1 label.sk-toggleable__label-arrow:before {content: \"▸\";float: left;margin-right: 0.25em;color: #696969;}#sk-container-id-1 label.sk-toggleable__label-arrow:hover:before {color: black;}#sk-container-id-1 div.sk-estimator:hover label.sk-toggleable__label-arrow:before {color: black;}#sk-container-id-1 div.sk-toggleable__content {max-height: 0;max-width: 0;overflow: hidden;text-align: left;background-color: #f0f8ff;}#sk-container-id-1 div.sk-toggleable__content pre {margin: 0.2em;color: black;border-radius: 0.25em;background-color: #f0f8ff;}#sk-container-id-1 input.sk-toggleable__control:checked~div.sk-toggleable__content {max-height: 200px;max-width: 100%;overflow: auto;}#sk-container-id-1 input.sk-toggleable__control:checked~label.sk-toggleable__label-arrow:before {content: \"▾\";}#sk-container-id-1 div.sk-estimator input.sk-toggleable__control:checked~label.sk-toggleable__label {background-color: #d4ebff;}#sk-container-id-1 div.sk-label input.sk-toggleable__control:checked~label.sk-toggleable__label {background-color: #d4ebff;}#sk-container-id-1 input.sk-hidden--visually {border: 0;clip: rect(1px 1px 1px 1px);clip: rect(1px, 1px, 1px, 1px);height: 1px;margin: -1px;overflow: hidden;padding: 0;position: absolute;width: 1px;}#sk-container-id-1 div.sk-estimator {font-family: monospace;background-color: #f0f8ff;border: 1px dotted black;border-radius: 0.25em;box-sizing: border-box;margin-bottom: 0.5em;}#sk-container-id-1 div.sk-estimator:hover {background-color: #d4ebff;}#sk-container-id-1 div.sk-parallel-item::after {content: \"\";width: 100%;border-bottom: 1px solid gray;flex-grow: 1;}#sk-container-id-1 div.sk-label:hover label.sk-toggleable__label {background-color: #d4ebff;}#sk-container-id-1 div.sk-serial::before {content: \"\";position: absolute;border-left: 1px solid gray;box-sizing: border-box;top: 0;bottom: 0;left: 50%;z-index: 0;}#sk-container-id-1 div.sk-serial {display: flex;flex-direction: column;align-items: center;background-color: white;padding-right: 0.2em;padding-left: 0.2em;position: relative;}#sk-container-id-1 div.sk-item {position: relative;z-index: 1;}#sk-container-id-1 div.sk-parallel {display: flex;align-items: stretch;justify-content: center;background-color: white;position: relative;}#sk-container-id-1 div.sk-item::before, #sk-container-id-1 div.sk-parallel-item::before {content: \"\";position: absolute;border-left: 1px solid gray;box-sizing: border-box;top: 0;bottom: 0;left: 50%;z-index: -1;}#sk-container-id-1 div.sk-parallel-item {display: flex;flex-direction: column;z-index: 1;position: relative;background-color: white;}#sk-container-id-1 div.sk-parallel-item:first-child::after {align-self: flex-end;width: 50%;}#sk-container-id-1 div.sk-parallel-item:last-child::after {align-self: flex-start;width: 50%;}#sk-container-id-1 div.sk-parallel-item:only-child::after {width: 0;}#sk-container-id-1 div.sk-dashed-wrapped {border: 1px dashed gray;margin: 0 0.4em 0.5em 0.4em;box-sizing: border-box;padding-bottom: 0.4em;background-color: white;}#sk-container-id-1 div.sk-label label {font-family: monospace;font-weight: bold;display: inline-block;line-height: 1.2em;}#sk-container-id-1 div.sk-label-container {text-align: center;}#sk-container-id-1 div.sk-container {/* jupyter's `normalize.less` sets `[hidden] { display: none; }` but bootstrap.min.css set `[hidden] { display: none !important; }` so we also need the `!important` here to be able to override the default hidden behavior on the sphinx rendered scikit-learn.org. See: https://github.com/scikit-learn/scikit-learn/issues/21755 */display: inline-block !important;position: relative;}#sk-container-id-1 div.sk-text-repr-fallback {display: none;}</style><div id=\"sk-container-id-1\" class=\"sk-top-container\"><div class=\"sk-text-repr-fallback\"><pre>RandomForestClassifier(n_estimators=200, n_jobs=1, random_state=42)</pre><b>In a Jupyter environment, please rerun this cell to show the HTML representation or trust the notebook. <br />On GitHub, the HTML representation is unable to render, please try loading this page with nbviewer.org.</b></div><div class=\"sk-container\" hidden><div class=\"sk-item\"><div class=\"sk-estimator sk-toggleable\"><input class=\"sk-toggleable__control sk-hidden--visually\" id=\"sk-estimator-id-1\" type=\"checkbox\" checked><label for=\"sk-estimator-id-1\" class=\"sk-toggleable__label sk-toggleable__label-arrow\">RandomForestClassifier</label><div class=\"sk-toggleable__content\"><pre>RandomForestClassifier(n_estimators=200, n_jobs=1, random_state=42)</pre></div></div></div></div></div>"
      ],
      "text/plain": [
       "RandomForestClassifier(n_estimators=200, n_jobs=1, random_state=42)"
      ]
     },
     "execution_count": 69,
     "metadata": {},
     "output_type": "execute_result"
    }
   ],
   "source": [
    "rf = RandomForestClassifier(n_estimators=200,n_jobs=1,random_state=42)\n",
    "rf.fit(X_train,y_train)"
   ]
  },
  {
   "cell_type": "code",
   "execution_count": 70,
   "id": "fe88a1c4",
   "metadata": {},
   "outputs": [],
   "source": [
    "ypred_train = rf.predict(X_train)\n",
    "ypred_test = rf.predict(X_test)"
   ]
  },
  {
   "cell_type": "code",
   "execution_count": 71,
   "id": "d9f1dd7d",
   "metadata": {},
   "outputs": [
    {
     "data": {
      "text/plain": [
       "6514     Neutral\n",
       "4910     Neutral\n",
       "1793    Positive\n",
       "4969     Neutral\n",
       "4736    Positive\n",
       "Name: Sentiments, dtype: object"
      ]
     },
     "execution_count": 71,
     "metadata": {},
     "output_type": "execute_result"
    }
   ],
   "source": [
    "y_test[:5]"
   ]
  },
  {
   "cell_type": "code",
   "execution_count": 72,
   "id": "0869f0c4",
   "metadata": {},
   "outputs": [
    {
     "data": {
      "text/plain": [
       "array(['Neutral', 'Neutral', 'Positive', 'Neutral', 'Positive'],\n",
       "      dtype=object)"
      ]
     },
     "execution_count": 72,
     "metadata": {},
     "output_type": "execute_result"
    }
   ],
   "source": [
    "ypred_test[:5]"
   ]
  },
  {
   "cell_type": "code",
   "execution_count": 73,
   "id": "13492a65",
   "metadata": {},
   "outputs": [
    {
     "data": {
      "text/plain": [
       "array(['Neutral', 'Positive', 'Positive', 'Negative', 'Positive'],\n",
       "      dtype=object)"
      ]
     },
     "execution_count": 73,
     "metadata": {},
     "output_type": "execute_result"
    }
   ],
   "source": [
    "ypred_train[:5]"
   ]
  },
  {
   "cell_type": "code",
   "execution_count": 74,
   "id": "8b77587b",
   "metadata": {},
   "outputs": [
    {
     "name": "stdout",
     "output_type": "stream",
     "text": [
      "Accuracy Score for Training Data is:  0.97725\n",
      "Accuracy Score for Test Data is:  0.9235\n"
     ]
    }
   ],
   "source": [
    "# Accuracy of the Train and Test data\n",
    "\n",
    "print(\"Accuracy Score for Training Data is: \", rf.score(X_train, y_train))\n",
    "print(\"Accuracy Score for Test Data is: \", rf.score(X_test, y_test))"
   ]
  },
  {
   "cell_type": "code",
   "execution_count": 77,
   "id": "7948cab6",
   "metadata": {},
   "outputs": [
    {
     "name": "stdout",
     "output_type": "stream",
     "text": [
      "              precision    recall  f1-score   support\n",
      "\n",
      "  Irrelevant       0.95      0.87      0.91       363\n",
      "    Negative       0.97      0.91      0.94       450\n",
      "     Neutral       0.85      0.96      0.90       496\n",
      "    Positive       0.94      0.93      0.94       691\n",
      "\n",
      "    accuracy                           0.92      2000\n",
      "   macro avg       0.93      0.92      0.92      2000\n",
      "weighted avg       0.93      0.92      0.92      2000\n",
      "\n"
     ]
    }
   ],
   "source": [
    "print(classification_report(y_test,ypred_test))"
   ]
  },
  {
   "cell_type": "code",
   "execution_count": 79,
   "id": "954588c8",
   "metadata": {},
   "outputs": [],
   "source": [
    "from sklearn.metrics import accuracy_score, classification_report, confusion_matrix"
   ]
  },
  {
   "cell_type": "code",
   "execution_count": 80,
   "id": "0154edff",
   "metadata": {},
   "outputs": [
    {
     "data": {
      "image/png": "[encoded data removed]",
      "text/plain": [
       "<Figure size 800x300 with 4 Axes>"
      ]
     },
     "metadata": {},
     "output_type": "display_data"
    }
   ],
   "source": [
    "fig,a =  plt.subplots(1,2,sharex=True,sharey=True,squeeze=False)\n",
    "fig.set_size_inches(8,3)\n",
    "#Plotting confusion matrix for the different models for the Training Data     # plasma  RdYlGn\n",
    "plt_0 = sns.heatmap((confusion_matrix(y_train,ypred_train)), annot=True, fmt='.5g',cmap='RdYlGn',ax=a[0][0])\n",
    "a[0][0].set_title('Training Data',color='green')\n",
    "a[0][0].set_xlabel('Predicted',color='blue')\n",
    "a[0][0].set_ylabel('Actuals',color='blue')\n",
    "\n",
    "\n",
    "#Plotting confusion matrix for the different models for the Test Data\n",
    "plot_1 = sns.heatmap((confusion_matrix(y_test,ypred_test)), annot=True,fmt='.5g',cmap='coolwarm',ax=a[0][1]);\n",
    "a[0][1].set_title('Test Data',color='green');\n",
    "a[0][1].set_xlabel('Predicted',color='blue')\n",
    "a[0][1].set_ylabel('Actuals',color='blue')\n",
    "\n",
    "fig.tight_layout()\n",
    "plt.show()"
   ]
  },
  {
   "cell_type": "code",
   "execution_count": null,
   "id": "ebd4028a",
   "metadata": {},
   "outputs": [],
   "source": []
  }
 ],
 "metadata": {
  "kernelspec": {
   "display_name": "Python 3 (ipykernel)",
   "language": "python",
   "name": "python3"
  },
  "language_info": {
   "codemirror_mode": {
    "name": "ipython",
    "version": 3
   },
   "file_extension": ".py",
   "mimetype": "text/x-python",
   "name": "python",
   "nbconvert_exporter": "python",
   "pygments_lexer": "ipython3",
   "version": "3.11.5"
  }
 },
 "nbformat": 4,
 "nbformat_minor": 5
}
